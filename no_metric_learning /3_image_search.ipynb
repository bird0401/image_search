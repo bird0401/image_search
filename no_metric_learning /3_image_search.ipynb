{
  "nbformat": 4,
  "nbformat_minor": 0,
  "metadata": {
    "colab": {
      "name": "3_image_search.ipynb",
      "provenance": [],
      "machine_shape": "hm",
      "background_execution": "on",
      "mount_file_id": "18UC7BrATIgEySVebepubaf95QjwUhOtk",
      "authorship_tag": "ABX9TyOx0DB7tThzEIEmlTdaTBKH",
      "include_colab_link": true
    },
    "kernelspec": {
      "name": "python3",
      "display_name": "Python 3"
    },
    "language_info": {
      "name": "python"
    },
    "accelerator": "GPU"
  },
  "cells": [
    {
      "cell_type": "markdown",
      "metadata": {
        "id": "view-in-github",
        "colab_type": "text"
      },
      "source": [
        "<a href=\"https://colab.research.google.com/github/bird0401/image_search/blob/main/no_metric_learning%20/3_image_search.ipynb\" target=\"_parent\"><img src=\"https://colab.research.google.com/assets/colab-badge.svg\" alt=\"Open In Colab\"/></a>"
      ]
    },
    {
      "cell_type": "code",
      "source": [
        "!pip install onnxruntime-gpu==1.7.0\n",
        "import onnxruntime"
      ],
      "metadata": {
        "colab": {
          "base_uri": "https://localhost:8080/"
        },
        "id": "rHQk4ADEpBLS",
        "outputId": "30233fcd-cb50-4504-d74a-53c4586fe8e8"
      },
      "execution_count": 1,
      "outputs": [
        {
          "output_type": "stream",
          "name": "stdout",
          "text": [
            "Collecting onnxruntime-gpu==1.7.0\n",
            "  Downloading onnxruntime_gpu-1.7.0-cp37-cp37m-manylinux2014_x86_64.whl (29.9 MB)\n",
            "\u001b[K     |████████████████████████████████| 29.9 MB 39 kB/s \n",
            "\u001b[?25hRequirement already satisfied: protobuf in /usr/local/lib/python3.7/dist-packages (from onnxruntime-gpu==1.7.0) (3.17.3)\n",
            "Requirement already satisfied: numpy>=1.16.6 in /usr/local/lib/python3.7/dist-packages (from onnxruntime-gpu==1.7.0) (1.21.6)\n",
            "Requirement already satisfied: six>=1.9 in /usr/local/lib/python3.7/dist-packages (from protobuf->onnxruntime-gpu==1.7.0) (1.15.0)\n",
            "Installing collected packages: onnxruntime-gpu\n",
            "Successfully installed onnxruntime-gpu-1.7.0\n"
          ]
        }
      ]
    },
    {
      "cell_type": "code",
      "source": [
        "import pathlib\n",
        "import sys\n",
        "import os\n",
        "import shutil\n",
        "import urllib.error\n",
        "import urllib.request\n",
        "\n",
        "import numpy as np\n",
        "import onnxruntime\n",
        "import PIL.Image"
      ],
      "metadata": {
        "id": "PO81jaoBoPqW"
      },
      "execution_count": 6,
      "outputs": []
    },
    {
      "cell_type": "code",
      "source": [
        "if os.path.isdir(\"/content/mnt\") : shutil.rmtree(\"/content/mnt\")\n",
        "shutil.copytree(\"/content/drive/MyDrive/mnt\",\"/content/mnt\")"
      ],
      "metadata": {
        "colab": {
          "base_uri": "https://localhost:8080/",
          "height": 34
        },
        "id": "edSl1sid4GPA",
        "outputId": "80361eb1-71aa-47d4-85ad-27ecbe877306"
      },
      "execution_count": 3,
      "outputs": [
        {
          "output_type": "execute_result",
          "data": {
            "text/plain": [
              "'/content/mnt'"
            ],
            "application/vnd.google.colaboratory.intrinsic+json": {
              "type": "string"
            }
          },
          "metadata": {},
          "execution_count": 3
        }
      ]
    },
    {
      "cell_type": "markdown",
      "source": [
        "# download image and exploit feature "
      ],
      "metadata": {
        "id": "FimRQFh8LnT0"
      }
    },
    {
      "cell_type": "code",
      "source": [
        "# download image file\n",
        "# image of US president\n",
        "\n",
        "def download_file(url, dst_path):\n",
        "    try:\n",
        "        with urllib.request.urlopen(url) as web_file:\n",
        "            data = web_file.read()\n",
        "            with open(dst_path, mode='wb') as local_file:\n",
        "                local_file.write(data)\n",
        "    except urllib.error.URLError as e:\n",
        "        print(e)\n",
        "\n",
        "url=\"https://static.tokyo-np.co.jp/image/article/size1/5/5/f/6/55f616b33d711265f1575b86873ea59a_1.jpg\"\n",
        "dst_path=\"/content/sample_img.jpg\"\n",
        "download_file(url, dst_path)"
      ],
      "metadata": {
        "id": "80MjT1usILH5"
      },
      "execution_count": 13,
      "outputs": []
    },
    {
      "cell_type": "code",
      "source": [
        "# exploit feature of download image\n",
        "\n",
        "FEATURE_DIR = pathlib.Path(\"/content/mnt/feature/mobilenet_v3_large_100_224_feature_vector_v5\")\n",
        "ONNX_MODEL_PATH = pathlib.Path(\"/content/mnt/model/mobilenet_v3_large_100_224_feature_vector_v5.onnx\")\n",
        "\n",
        "onnx_session = onnxruntime.InferenceSession(str(ONNX_MODEL_PATH))\n",
        "\n",
        "# input image\n",
        "image_path = pathlib.Path(dst_path)\n",
        "\n",
        "# pre-process image\n",
        "image = PIL.Image.open(image_path)\n",
        "image = image.convert(\"RGB\")\n",
        "image = image.resize((224, 224))\n",
        "image = np.array(image, dtype=np.float32)\n",
        "image = image / 255\n",
        "\n",
        "# output feature\n",
        "input_name = onnx_session.get_inputs()[0].name\n",
        "output_name = onnx_session.get_outputs()[0].name \n",
        "\n",
        "query_feature = onnx_session.run([output_name], {input_name: np.expand_dims(image, 0)})[0][0]"
      ],
      "metadata": {
        "id": "n7IVEWid3tAS"
      },
      "execution_count": 14,
      "outputs": []
    },
    {
      "cell_type": "markdown",
      "source": [
        "# try"
      ],
      "metadata": {
        "id": "0bK76iR7LfI_"
      }
    },
    {
      "cell_type": "code",
      "source": [
        "fs=np.array([[1,2],[3,4],[5,6],[7,8],[9,10],[11,12]])\n",
        "q=np.array([4,3])\n",
        "q_t = np.tile(q, (len(fs), 1))\n",
        "q_t - fs"
      ],
      "metadata": {
        "colab": {
          "base_uri": "https://localhost:8080/"
        },
        "id": "HlpDw3X11Pm5",
        "outputId": "0a703eef-714f-4a91-842a-1a58f2016614"
      },
      "execution_count": 15,
      "outputs": [
        {
          "output_type": "execute_result",
          "data": {
            "text/plain": [
              "array([[ 3,  1],\n",
              "       [ 1, -1],\n",
              "       [-1, -3],\n",
              "       [-3, -5],\n",
              "       [-5, -7],\n",
              "       [-7, -9]])"
            ]
          },
          "metadata": {},
          "execution_count": 15
        }
      ]
    },
    {
      "cell_type": "code",
      "source": [
        "distances0 = np.linalg.norm(q_t - fs, ord=0, axis=1)\n",
        "distances1 = np.linalg.norm(q_t - fs, ord=1, axis=1)\n",
        "distances2 = np.linalg.norm(q_t - fs, ord=2, axis=1)\n",
        "distances0, distances1, distances2"
      ],
      "metadata": {
        "colab": {
          "base_uri": "https://localhost:8080/"
        },
        "id": "VDTQdqhw1NO4",
        "outputId": "2443cd7b-e680-4a3a-febd-620ab81e880a"
      },
      "execution_count": 16,
      "outputs": [
        {
          "output_type": "execute_result",
          "data": {
            "text/plain": [
              "(array([2., 2., 2., 2., 2., 2.]),\n",
              " array([ 4.,  2.,  4.,  8., 12., 16.]),\n",
              " array([ 3.16227766,  1.41421356,  3.16227766,  5.83095189,  8.60232527,\n",
              "        11.40175425]))"
            ]
          },
          "metadata": {},
          "execution_count": 16
        }
      ]
    },
    {
      "cell_type": "markdown",
      "source": [
        "# calculate distances"
      ],
      "metadata": {
        "id": "1SR0Nvk8Li-j"
      }
    },
    {
      "cell_type": "code",
      "source": [
        "# culculate distance on each image\n",
        "results = []\n",
        "limit = 10\n",
        "\n",
        "for blob_index in range(21):\n",
        "    object_ids_path = FEATURE_DIR / \"{:04d}.object_ids.npy\".format(blob_index)\n",
        "    features_path = FEATURE_DIR / \"{:04d}.features.npy\".format(blob_index)\n",
        "    \n",
        "    # if not object_ids_path.exists():\n",
        "    #     break\n",
        "\n",
        "    object_ids = np.load(object_ids_path)\n",
        "    features = np.load(features_path)\n",
        "    assert len(object_ids) == len(features)\n",
        "\n",
        "    query_features = np.tile(query_feature, (len(features), 1))\n",
        "\n",
        "    distances = np.linalg.norm(query_features - features, axis=1)\n",
        "    distance_indexes = np.argsort(distances)[:limit]\n",
        "    results.extend(zip(object_ids[distance_indexes], distances[distance_indexes]))\n",
        "\n",
        "for object_id, distance in sorted(results, key=lambda item: item[1])[0:limit]:\n",
        "    print(\"{} {}\".format(object_id, distance))"
      ],
      "metadata": {
        "colab": {
          "base_uri": "https://localhost:8080/"
        },
        "id": "K23rarY33wmW",
        "outputId": "fc857d65-e392-4714-8405-81391c3b4011"
      },
      "execution_count": 17,
      "outputs": [
        {
          "output_type": "stream",
          "name": "stdout",
          "text": [
            "090827.jpg 11.56021499633789\n",
            "006483.jpg 11.854053497314453\n",
            "125437.jpg 12.095026969909668\n",
            "024068.jpg 12.466474533081055\n",
            "194436.jpg 12.488125801086426\n",
            "042124.jpg 12.660187721252441\n",
            "081087.jpg 12.713072776794434\n",
            "011889.jpg 12.883013725280762\n",
            "066905.jpg 12.889762878417969\n",
            "079439.jpg 13.079289436340332\n"
          ]
        }
      ]
    }
  ]
}