{
  "nbformat": 4,
  "nbformat_minor": 0,
  "metadata": {
    "colab": {
      "name": "1_get_model.ipynb",
      "provenance": [],
      "machine_shape": "hm",
      "background_execution": "on",
      "mount_file_id": "1Mn9D1QQ_jAzzRuCBagg_UfBELYqkJUKB",
      "authorship_tag": "ABX9TyN1TCbR/hCVCMxR4pI/473X",
      "include_colab_link": true
    },
    "kernelspec": {
      "name": "python3",
      "display_name": "Python 3"
    },
    "language_info": {
      "name": "python"
    },
    "accelerator": "GPU"
  },
  "cells": [
    {
      "cell_type": "markdown",
      "metadata": {
        "id": "view-in-github",
        "colab_type": "text"
      },
      "source": [
        "<a href=\"https://colab.research.google.com/github/bird0401/image_search/blob/main/no_metric_learning%20/1_get_model.ipynb\" target=\"_parent\"><img src=\"https://colab.research.google.com/assets/colab-badge.svg\" alt=\"Open In Colab\"/></a>"
      ]
    },
    {
      "cell_type": "markdown",
      "source": [
        "# Get model from Tensorflow Hub"
      ],
      "metadata": {
        "id": "NwS6E6qoHvIN"
      }
    },
    {
      "cell_type": "code",
      "execution_count": 1,
      "metadata": {
        "colab": {
          "base_uri": "https://localhost:8080/"
        },
        "id": "jdVh0EHKe3oY",
        "outputId": "76dc4fc7-fc39-41a2-cad7-68f0acead98c"
      },
      "outputs": [
        {
          "output_type": "stream",
          "name": "stdout",
          "text": [
            "--2022-05-12 16:09:09--  https://tfhub.dev/google/imagenet/mobilenet_v3_large_100_224/feature_vector/5?tf-hub-format=compressed\n",
            "Resolving tfhub.dev (tfhub.dev)... 142.251.10.139, 142.251.10.113, 142.251.10.102, ...\n",
            "Connecting to tfhub.dev (tfhub.dev)|142.251.10.139|:443... connected.\n",
            "HTTP request sent, awaiting response... 302 Found\n",
            "Location: https://storage.googleapis.com/tfhub-modules/google/imagenet/mobilenet_v3_large_100_224/feature_vector/5.tar.gz [following]\n",
            "--2022-05-12 16:09:10--  https://storage.googleapis.com/tfhub-modules/google/imagenet/mobilenet_v3_large_100_224/feature_vector/5.tar.gz\n",
            "Resolving storage.googleapis.com (storage.googleapis.com)... 74.125.68.128, 74.125.24.128, 142.251.12.128, ...\n",
            "Connecting to storage.googleapis.com (storage.googleapis.com)|74.125.68.128|:443... connected.\n",
            "HTTP request sent, awaiting response... 200 OK\n",
            "Length: 15840597 (15M) [application/octet-stream]\n",
            "Saving to: ‘mobilenet_v3_large_100_224_feature_vector_v5.tar.gz’\n",
            "\n",
            "mobilenet_v3_large_ 100%[===================>]  15.11M  7.70MB/s    in 2.0s    \n",
            "\n",
            "2022-05-12 16:09:14 (7.70 MB/s) - ‘mobilenet_v3_large_100_224_feature_vector_v5.tar.gz’ saved [15840597/15840597]\n",
            "\n"
          ]
        }
      ],
      "source": [
        "# get mobilenet_v3\n",
        "!wget --output-document mobilenet_v3_large_100_224_feature_vector_v5.tar.gz \"https://tfhub.dev/google/imagenet/mobilenet_v3_large_100_224/feature_vector/5?tf-hub-format=compressed\""
      ]
    },
    {
      "cell_type": "code",
      "source": [
        "!ls -l mobilenet_v3_large_100_224_feature_vector_v5.tar.gz"
      ],
      "metadata": {
        "colab": {
          "base_uri": "https://localhost:8080/"
        },
        "id": "DxHLUvSWgJcC",
        "outputId": "d9998ee9-1dd0-467d-fd6a-8378874b5f53"
      },
      "execution_count": 2,
      "outputs": [
        {
          "output_type": "stream",
          "name": "stdout",
          "text": [
            "-rw-r--r-- 1 root root 15840597 Feb  9  2021 mobilenet_v3_large_100_224_feature_vector_v5.tar.gz\n"
          ]
        }
      ]
    },
    {
      "cell_type": "code",
      "source": [
        "# confirm whether there is no broken data\n",
        "!sha1sum mobilenet_v3_large_100_224_feature_vector_v5.tar.gz"
      ],
      "metadata": {
        "colab": {
          "base_uri": "https://localhost:8080/"
        },
        "id": "KkoARCr2gNhc",
        "outputId": "461945d3-d5dd-4ad1-a261-4d6c7a58763b"
      },
      "execution_count": 3,
      "outputs": [
        {
          "output_type": "stream",
          "name": "stdout",
          "text": [
            "b4181065be4258956e249ea56e27cbeb8306372b  mobilenet_v3_large_100_224_feature_vector_v5.tar.gz\n"
          ]
        }
      ]
    },
    {
      "cell_type": "code",
      "source": [
        "!mkdir mobilenet_v3_large_100_224_feature_vector_v5\n",
        "!tar zxfv mobilenet_v3_large_100_224_feature_vector_v5.tar.gz -C mobilenet_v3_large_100_224_feature_vector_v5"
      ],
      "metadata": {
        "id": "hpWr9xNFgWio"
      },
      "execution_count": 4,
      "outputs": []
    },
    {
      "cell_type": "code",
      "source": [
        "!python3 -m pip install tf2onnx"
      ],
      "metadata": {
        "colab": {
          "base_uri": "https://localhost:8080/"
        },
        "id": "J3dADI77hi8P",
        "outputId": "d04443b9-3bb7-474c-a0b8-9dd5eccfb429"
      },
      "execution_count": 6,
      "outputs": [
        {
          "output_type": "stream",
          "name": "stdout",
          "text": [
            "Collecting tf2onnx\n",
            "  Downloading tf2onnx-1.10.1-py3-none-any.whl (440 kB)\n",
            "\u001b[?25l\r\u001b[K     |▊                               | 10 kB 33.1 MB/s eta 0:00:01\r\u001b[K     |█▌                              | 20 kB 37.0 MB/s eta 0:00:01\r\u001b[K     |██▎                             | 30 kB 43.8 MB/s eta 0:00:01\r\u001b[K     |███                             | 40 kB 35.6 MB/s eta 0:00:01\r\u001b[K     |███▊                            | 51 kB 39.9 MB/s eta 0:00:01\r\u001b[K     |████▌                           | 61 kB 45.3 MB/s eta 0:00:01\r\u001b[K     |█████▏                          | 71 kB 30.3 MB/s eta 0:00:01\r\u001b[K     |██████                          | 81 kB 32.0 MB/s eta 0:00:01\r\u001b[K     |██████▊                         | 92 kB 34.7 MB/s eta 0:00:01\r\u001b[K     |███████▍                        | 102 kB 31.0 MB/s eta 0:00:01\r\u001b[K     |████████▏                       | 112 kB 31.0 MB/s eta 0:00:01\r\u001b[K     |█████████                       | 122 kB 31.0 MB/s eta 0:00:01\r\u001b[K     |█████████▊                      | 133 kB 31.0 MB/s eta 0:00:01\r\u001b[K     |██████████▍                     | 143 kB 31.0 MB/s eta 0:00:01\r\u001b[K     |███████████▏                    | 153 kB 31.0 MB/s eta 0:00:01\r\u001b[K     |████████████                    | 163 kB 31.0 MB/s eta 0:00:01\r\u001b[K     |████████████▋                   | 174 kB 31.0 MB/s eta 0:00:01\r\u001b[K     |█████████████▍                  | 184 kB 31.0 MB/s eta 0:00:01\r\u001b[K     |██████████████▏                 | 194 kB 31.0 MB/s eta 0:00:01\r\u001b[K     |██████████████▉                 | 204 kB 31.0 MB/s eta 0:00:01\r\u001b[K     |███████████████▋                | 215 kB 31.0 MB/s eta 0:00:01\r\u001b[K     |████████████████▍               | 225 kB 31.0 MB/s eta 0:00:01\r\u001b[K     |█████████████████▏              | 235 kB 31.0 MB/s eta 0:00:01\r\u001b[K     |█████████████████▉              | 245 kB 31.0 MB/s eta 0:00:01\r\u001b[K     |██████████████████▋             | 256 kB 31.0 MB/s eta 0:00:01\r\u001b[K     |███████████████████▍            | 266 kB 31.0 MB/s eta 0:00:01\r\u001b[K     |████████████████████            | 276 kB 31.0 MB/s eta 0:00:01\r\u001b[K     |████████████████████▉           | 286 kB 31.0 MB/s eta 0:00:01\r\u001b[K     |█████████████████████▋          | 296 kB 31.0 MB/s eta 0:00:01\r\u001b[K     |██████████████████████▎         | 307 kB 31.0 MB/s eta 0:00:01\r\u001b[K     |███████████████████████         | 317 kB 31.0 MB/s eta 0:00:01\r\u001b[K     |███████████████████████▉        | 327 kB 31.0 MB/s eta 0:00:01\r\u001b[K     |████████████████████████▋       | 337 kB 31.0 MB/s eta 0:00:01\r\u001b[K     |█████████████████████████▎      | 348 kB 31.0 MB/s eta 0:00:01\r\u001b[K     |██████████████████████████      | 358 kB 31.0 MB/s eta 0:00:01\r\u001b[K     |██████████████████████████▉     | 368 kB 31.0 MB/s eta 0:00:01\r\u001b[K     |███████████████████████████▌    | 378 kB 31.0 MB/s eta 0:00:01\r\u001b[K     |████████████████████████████▎   | 389 kB 31.0 MB/s eta 0:00:01\r\u001b[K     |█████████████████████████████   | 399 kB 31.0 MB/s eta 0:00:01\r\u001b[K     |█████████████████████████████▊  | 409 kB 31.0 MB/s eta 0:00:01\r\u001b[K     |██████████████████████████████▌ | 419 kB 31.0 MB/s eta 0:00:01\r\u001b[K     |███████████████████████████████▎| 430 kB 31.0 MB/s eta 0:00:01\r\u001b[K     |████████████████████████████████| 440 kB 31.0 MB/s \n",
            "\u001b[?25hRequirement already satisfied: requests in /usr/local/lib/python3.7/dist-packages (from tf2onnx) (2.23.0)\n",
            "Collecting onnx>=1.4.1\n",
            "  Downloading onnx-1.11.0-cp37-cp37m-manylinux_2_12_x86_64.manylinux2010_x86_64.whl (12.8 MB)\n",
            "\u001b[K     |████████████████████████████████| 12.8 MB 66.6 MB/s \n",
            "\u001b[?25hCollecting flatbuffers~=1.12\n",
            "  Downloading flatbuffers-1.12-py2.py3-none-any.whl (15 kB)\n",
            "Requirement already satisfied: numpy>=1.14.1 in /usr/local/lib/python3.7/dist-packages (from tf2onnx) (1.21.6)\n",
            "Requirement already satisfied: six in /usr/local/lib/python3.7/dist-packages (from tf2onnx) (1.15.0)\n",
            "Requirement already satisfied: protobuf>=3.12.2 in /usr/local/lib/python3.7/dist-packages (from onnx>=1.4.1->tf2onnx) (3.17.3)\n",
            "Requirement already satisfied: typing-extensions>=3.6.2.1 in /usr/local/lib/python3.7/dist-packages (from onnx>=1.4.1->tf2onnx) (4.2.0)\n",
            "Requirement already satisfied: idna<3,>=2.5 in /usr/local/lib/python3.7/dist-packages (from requests->tf2onnx) (2.10)\n",
            "Requirement already satisfied: urllib3!=1.25.0,!=1.25.1,<1.26,>=1.21.1 in /usr/local/lib/python3.7/dist-packages (from requests->tf2onnx) (1.24.3)\n",
            "Requirement already satisfied: chardet<4,>=3.0.2 in /usr/local/lib/python3.7/dist-packages (from requests->tf2onnx) (3.0.4)\n",
            "Requirement already satisfied: certifi>=2017.4.17 in /usr/local/lib/python3.7/dist-packages (from requests->tf2onnx) (2021.10.8)\n",
            "Installing collected packages: onnx, flatbuffers, tf2onnx\n",
            "  Attempting uninstall: flatbuffers\n",
            "    Found existing installation: flatbuffers 2.0\n",
            "    Uninstalling flatbuffers-2.0:\n",
            "      Successfully uninstalled flatbuffers-2.0\n",
            "\u001b[31mERROR: pip's dependency resolver does not currently take into account all the packages that are installed. This behaviour is the source of the following dependency conflicts.\n",
            "tensorflow 2.8.0 requires tf-estimator-nightly==2.8.0.dev2021122109, which is not installed.\u001b[0m\n",
            "Successfully installed flatbuffers-1.12 onnx-1.11.0 tf2onnx-1.10.1\n"
          ]
        }
      ]
    },
    {
      "cell_type": "markdown",
      "source": [
        "# Convert to ONNX"
      ],
      "metadata": {
        "id": "eTLwR1gmH9z6"
      }
    },
    {
      "cell_type": "code",
      "source": [
        "!python3 -m tf2onnx.convert --saved-model mobilenet_v3_large_100_224_feature_vector_v5 --output mobilenet_v3_large_100_224_feature_vector_v5.onnx"
      ],
      "metadata": {
        "colab": {
          "base_uri": "https://localhost:8080/"
        },
        "id": "r_TBMbO7hGEB",
        "outputId": "534e572d-6794-4544-a9e6-30974a5d5523"
      },
      "execution_count": 7,
      "outputs": [
        {
          "output_type": "stream",
          "name": "stdout",
          "text": [
            "/usr/lib/python3.7/runpy.py:125: RuntimeWarning: 'tf2onnx.convert' found in sys.modules after import of package 'tf2onnx', but prior to execution of 'tf2onnx.convert'; this may result in unpredictable behaviour\n",
            "  warn(RuntimeWarning(msg))\n",
            "2022-05-12 16:09:26,830 - WARNING - '--tag' not specified for saved_model. Using --tag serve\n",
            "2022-05-12 16:09:28,329 - INFO - Signatures found in model: [serving_default].\n",
            "2022-05-12 16:09:28,329 - WARNING - '--signature_def' not specified, using first signature: serving_default\n",
            "2022-05-12 16:09:28,330 - INFO - Output names: ['feature_vector']\n",
            "WARNING:tensorflow:From /usr/local/lib/python3.7/dist-packages/tf2onnx/tf_loader.py:711: extract_sub_graph (from tensorflow.python.framework.graph_util_impl) is deprecated and will be removed in a future version.\n",
            "Instructions for updating:\n",
            "Use `tf.compat.v1.graph_util.extract_sub_graph`\n",
            "2022-05-12 16:09:30,008 - WARNING - From /usr/local/lib/python3.7/dist-packages/tf2onnx/tf_loader.py:711: extract_sub_graph (from tensorflow.python.framework.graph_util_impl) is deprecated and will be removed in a future version.\n",
            "Instructions for updating:\n",
            "Use `tf.compat.v1.graph_util.extract_sub_graph`\n",
            "2022-05-12 16:09:30,583 - INFO - Using tensorflow=2.8.0, onnx=1.11.0, tf2onnx=1.10.1/a37f29\n",
            "2022-05-12 16:09:30,583 - INFO - Using opset <onnx, 9>\n",
            "2022-05-12 16:09:32,785 - INFO - Computed 0 values for constant folding\n",
            "2022-05-12 16:09:34,463 - INFO - Optimizing ONNX model\n",
            "2022-05-12 16:09:36,481 - INFO - After optimization: BatchNormalization -41 (46->5), Const -201 (347->146), GlobalAveragePool +8 (0->8), Identity -83 (83->0), ReduceMean -8 (8->0), Reshape -15 (15->0), Transpose -236 (237->1)\n",
            "2022-05-12 16:09:36,513 - INFO - \n",
            "2022-05-12 16:09:36,513 - INFO - Successfully converted TensorFlow model mobilenet_v3_large_100_224_feature_vector_v5 to ONNX\n",
            "2022-05-12 16:09:36,513 - INFO - Model inputs: ['inputs']\n",
            "2022-05-12 16:09:36,513 - INFO - Model outputs: ['feature_vector']\n",
            "2022-05-12 16:09:36,513 - INFO - ONNX model is saved at mobilenet_v3_large_100_224_feature_vector_v5.onnx\n",
            "-rw-r--r-- 1 root root 16912246 May 12 16:09 mobilenet_v3_large_100_224_feature_vector_v5.onnx\n"
          ]
        }
      ]
    },
    {
      "cell_type": "code",
      "source": [
        "!ls -l mobilenet_v3_large_100_224_feature_vector_v5.onnx"
      ],
      "metadata": {
        "id": "WqXdsZrXHdCe"
      },
      "execution_count": null,
      "outputs": []
    },
    {
      "cell_type": "code",
      "source": [
        "!sha1sum mobilenet_v3_large_100_224_feature_vector_v5.onnx"
      ],
      "metadata": {
        "colab": {
          "base_uri": "https://localhost:8080/"
        },
        "id": "oLy4TeHwgtiA",
        "outputId": "3a85e0fb-16b1-49a9-c11a-d4cf6e10e4d8"
      },
      "execution_count": 8,
      "outputs": [
        {
          "output_type": "stream",
          "name": "stdout",
          "text": [
            "df8c22fd55898d5325ab501cab2362da95ad3149  mobilenet_v3_large_100_224_feature_vector_v5.onnx\n"
          ]
        }
      ]
    },
    {
      "cell_type": "markdown",
      "source": [
        "# inference"
      ],
      "metadata": {
        "id": "xgE_9Ru8IHdn"
      }
    },
    {
      "cell_type": "code",
      "source": [
        "!nvidia-smi | head -n 12"
      ],
      "metadata": {
        "colab": {
          "base_uri": "https://localhost:8080/"
        },
        "id": "cO2US5v8icPl",
        "outputId": "13279d6f-0a0e-481e-85c9-9fe52da977cd"
      },
      "execution_count": 9,
      "outputs": [
        {
          "output_type": "stream",
          "name": "stdout",
          "text": [
            "Thu May 12 16:09:37 2022       \n",
            "+-----------------------------------------------------------------------------+\n",
            "| NVIDIA-SMI 460.32.03    Driver Version: 460.32.03    CUDA Version: 11.2     |\n",
            "|-------------------------------+----------------------+----------------------+\n",
            "| GPU  Name        Persistence-M| Bus-Id        Disp.A | Volatile Uncorr. ECC |\n",
            "| Fan  Temp  Perf  Pwr:Usage/Cap|         Memory-Usage | GPU-Util  Compute M. |\n",
            "|                               |                      |               MIG M. |\n",
            "|===============================+======================+======================|\n",
            "|   0  Tesla T4            Off  | 00000000:00:04.0 Off |                    0 |\n",
            "| N/A   38C    P0    25W /  70W |      0MiB / 15109MiB |      6%      Default |\n",
            "|                               |                      |                  N/A |\n",
            "+-------------------------------+----------------------+----------------------+\n"
          ]
        }
      ]
    },
    {
      "cell_type": "code",
      "source": [
        "!pip install onnxruntime-gpu==1.7.0"
      ],
      "metadata": {
        "colab": {
          "base_uri": "https://localhost:8080/"
        },
        "id": "Hu6TUy_xCe20",
        "outputId": "ee5f854b-efb1-4184-e3b8-d32bd81c7837"
      },
      "execution_count": 12,
      "outputs": [
        {
          "output_type": "stream",
          "name": "stdout",
          "text": [
            "Collecting onnxruntime-gpu==1.7.0\n",
            "  Downloading onnxruntime_gpu-1.7.0-cp37-cp37m-manylinux2014_x86_64.whl (29.9 MB)\n",
            "\u001b[K     |████████████████████████████████| 29.9 MB 1.2 MB/s \n",
            "\u001b[?25hRequirement already satisfied: protobuf in /usr/local/lib/python3.7/dist-packages (from onnxruntime-gpu==1.7.0) (3.17.3)\n",
            "Requirement already satisfied: numpy>=1.16.6 in /usr/local/lib/python3.7/dist-packages (from onnxruntime-gpu==1.7.0) (1.21.6)\n",
            "Requirement already satisfied: six>=1.9 in /usr/local/lib/python3.7/dist-packages (from protobuf->onnxruntime-gpu==1.7.0) (1.15.0)\n",
            "Installing collected packages: onnxruntime-gpu\n",
            "Successfully installed onnxruntime-gpu-1.7.0\n"
          ]
        }
      ]
    },
    {
      "cell_type": "code",
      "source": [
        "import numpy as np\n",
        "import onnxruntime"
      ],
      "metadata": {
        "id": "663axSTqB1Za"
      },
      "execution_count": 13,
      "outputs": []
    },
    {
      "cell_type": "code",
      "source": [
        "onnxruntime.get_device()"
      ],
      "metadata": {
        "colab": {
          "base_uri": "https://localhost:8080/",
          "height": 35
        },
        "id": "Ay_qbmvSCGbv",
        "outputId": "e9fbd404-07e7-4fc4-cc0f-7eeaf2c2c657"
      },
      "execution_count": 14,
      "outputs": [
        {
          "output_type": "execute_result",
          "data": {
            "text/plain": [
              "'GPU'"
            ],
            "application/vnd.google.colaboratory.intrinsic+json": {
              "type": "string"
            }
          },
          "metadata": {},
          "execution_count": 14
        }
      ]
    },
    {
      "cell_type": "code",
      "source": [
        "session = onnxruntime.InferenceSession(\"mobilenet_v3_large_100_224_feature_vector_v5.onnx\")"
      ],
      "metadata": {
        "id": "YwFgkwRiCTpl"
      },
      "execution_count": 16,
      "outputs": []
    },
    {
      "cell_type": "code",
      "source": [
        "session.get_providers()"
      ],
      "metadata": {
        "colab": {
          "base_uri": "https://localhost:8080/"
        },
        "id": "xeSUZpKBCnKS",
        "outputId": "78c1f561-39a6-462c-82d6-0ab26055930e"
      },
      "execution_count": 17,
      "outputs": [
        {
          "output_type": "execute_result",
          "data": {
            "text/plain": [
              "['CUDAExecutionProvider', 'CPUExecutionProvider']"
            ]
          },
          "metadata": {},
          "execution_count": 17
        }
      ]
    },
    {
      "cell_type": "code",
      "source": [
        "session.get_inputs()[0].name"
      ],
      "metadata": {
        "colab": {
          "base_uri": "https://localhost:8080/",
          "height": 35
        },
        "id": "xGxK39MrGWnj",
        "outputId": "361420a7-ea5f-4f13-9b66-8cc7ee0a324b"
      },
      "execution_count": 26,
      "outputs": [
        {
          "output_type": "execute_result",
          "data": {
            "text/plain": [
              "'inputs'"
            ],
            "application/vnd.google.colaboratory.intrinsic+json": {
              "type": "string"
            }
          },
          "metadata": {},
          "execution_count": 26
        }
      ]
    },
    {
      "cell_type": "code",
      "source": [
        "session.get_outputs()[0].name "
      ],
      "metadata": {
        "colab": {
          "base_uri": "https://localhost:8080/",
          "height": 35
        },
        "id": "gz9LnLDdGpHg",
        "outputId": "4f205b62-bdf5-474f-d3d1-16f6881c2d71"
      },
      "execution_count": 28,
      "outputs": [
        {
          "output_type": "execute_result",
          "data": {
            "text/plain": [
              "'feature_vector'"
            ],
            "application/vnd.google.colaboratory.intrinsic+json": {
              "type": "string"
            }
          },
          "metadata": {},
          "execution_count": 28
        }
      ]
    },
    {
      "cell_type": "code",
      "source": [
        "input_name = session.get_inputs()[0].name\n",
        "output_name = session.get_outputs()[0].name "
      ],
      "metadata": {
        "id": "h41Mtc6AGn5j"
      },
      "execution_count": 29,
      "outputs": []
    },
    {
      "cell_type": "code",
      "source": [
        "session.run([output_name], {input_name:np.zeros((1, 224, 224, 3), dtype=np.float32)})"
      ],
      "metadata": {
        "colab": {
          "base_uri": "https://localhost:8080/"
        },
        "id": "thSz1O2QC9Ez",
        "outputId": "447f4ce8-bc63-4b00-942e-d851543dfce1"
      },
      "execution_count": 30,
      "outputs": [
        {
          "output_type": "execute_result",
          "data": {
            "text/plain": [
              "[array([[-0.19617254, -0.32971072,  0.01838558, ...,  1.1617097 ,\n",
              "         -0.36636543, -0.33906448]], dtype=float32)]"
            ]
          },
          "metadata": {},
          "execution_count": 30
        }
      ]
    },
    {
      "cell_type": "code",
      "source": [
        "session.run([output_name], {input_name: np.ones((1, 224, 224, 3), dtype=np.float32)})"
      ],
      "metadata": {
        "colab": {
          "base_uri": "https://localhost:8080/"
        },
        "id": "0pgPEOp3DEa2",
        "outputId": "64211885-eb1a-4f51-8481-c08034604f35"
      },
      "execution_count": 31,
      "outputs": [
        {
          "output_type": "execute_result",
          "data": {
            "text/plain": [
              "[array([[ 0.46933305,  0.20881234,  0.306212  , ..., -0.3671668 ,\n",
              "         -0.3148665 , -0.3328042 ]], dtype=float32)]"
            ]
          },
          "metadata": {},
          "execution_count": 31
        }
      ]
    },
    {
      "cell_type": "code",
      "source": [
        "# !cp /content/mobilenet_v3_large_100_224_feature_vector_v5.onnx /content/drive/MyDrive/mnt/model"
      ],
      "metadata": {
        "id": "2wZ13ARxI1kY"
      },
      "execution_count": 33,
      "outputs": []
    }
  ]
}